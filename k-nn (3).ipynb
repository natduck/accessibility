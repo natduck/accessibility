{
 "cells": [
  {
   "cell_type": "code",
   "execution_count": 1,
   "id": "79023c90-0450-4e58-95c3-c0a90792dac2",
   "metadata": {},
   "outputs": [],
   "source": [
    "from sklearn.model_selection import train_test_split\n",
    "from sklearn.svm import SVR\n",
    "from sklearn.cluster import KMeans\n",
    "import pandas as pd\n",
    "import numpy as np\n",
    "from sklearn.svm import SVC\n",
    "from sklearn.metrics import accuracy_score\n",
    "from sklearn.neighbors import KNeighborsClassifier\n",
    "from sklearn.model_selection import GridSearchCV\n",
    "import matplotlib.pyplot as plt\n",
    "\n",
    "\n"
   ]
  },
  {
   "cell_type": "code",
   "execution_count": 2,
   "id": "d2f4bacc-0609-4385-9df5-657429eb9ac8",
   "metadata": {},
   "outputs": [],
   "source": [
    "df = pd.read_csv('Property Value Sales 2020.csv')\n",
    "\n"
   ]
  },
  {
   "cell_type": "code",
   "execution_count": 3,
   "id": "54959d78-307d-42c5-8cbd-251ead87ab69",
   "metadata": {},
   "outputs": [
    {
     "name": "stderr",
     "output_type": "stream",
     "text": [
      "<ipython-input-3-14953ffb7447>:5: FutureWarning: The default value of numeric_only in DataFrame.mean is deprecated. In a future version, it will default to False. In addition, specifying 'numeric_only=None' is deprecated. Select only valid columns or specify the value of numeric_only to silence this warning.\n",
      "  df = df.fillna(df.mean()).replace([np.inf, -np.inf], np.nan).dropna()\n"
     ]
    }
   ],
   "source": [
    "#preparing data\n",
    "df = df.dropna().replace([np.inf, -np.inf], np.nan).dropna()\n",
    "\n",
    "\n",
    "df = df.fillna(df.mean()).replace([np.inf, -np.inf], np.nan).dropna()\n"
   ]
  },
  {
   "cell_type": "code",
   "execution_count": null,
   "id": "626fee7a-8592-489f-8a1e-dfda99d6022d",
   "metadata": {},
   "outputs": [],
   "source": [
    "\n",
    "\n",
    "\n",
    "X = df[['transit_score', 'bike_score', 'price', 'walkscore', 'sq ft']]\n",
    "y = df['Metro']\n",
    "\n",
    "\n",
    "\n",
    "X_train, X_test, y_train, y_test = train_test_split(X, y, test_size=0.3, random_state=42)\n",
    "\n",
    "# K-means\n",
    "kmeans = KMeans(n_clusters=2, random_state=42)\n",
    "kmeans.fit(X_train)\n",
    "y_pred_kmeans = kmeans.predict(X_test)\n",
    "\n",
    "# SVM \n",
    "svm = SVC(kernel='linear', C=1.0, random_state=42, cache_size=7000)\n",
    "svm.fit(X_train, y_train.values.ravel())\n",
    "y_pred_svm = svm.predict(X_test)\n",
    "\n",
    "\n",
    "#accuracy_kmeans = accuracy_score(y_test, y_pred_kmeans)\n",
    "accuracy_svm = accuracy_score(y_test, y_pred_svm)\n",
    "\n",
    "#print(\"Accuracy of K-means model: {:.2f}%\".format(accuracy_kmeans * 100))\n",
    "print(\"Accuracy of SVM model: {:.2f}%\".format(accuracy_svm * 100))\n"
   ]
  },
  {
   "cell_type": "code",
   "execution_count": 4,
   "id": "fe0a9e95-c04f-4490-94a7-ceece02f1f3c",
   "metadata": {},
   "outputs": [
    {
     "name": "stdout",
     "output_type": "stream",
     "text": [
      "Accuracy: 0.4837799717912553\n"
     ]
    }
   ],
   "source": [
    "#knn\n",
    "\n",
    "\n",
    "X = df[['transit_score', 'bike_score', 'price', 'walkscore', 'sq ft']]\n",
    "y = df['Metro']\n",
    "\n",
    "\n",
    "X_train, X_test, y_train, y_test = train_test_split(X, y, test_size=0.2, random_state=42)\n",
    "\n",
    "knn = KNeighborsClassifier(n_neighbors=5)\n",
    "knn.fit(X_train, y_train)\n",
    "\n",
    "y_pred = knn.predict(X_test)\n",
    "\n",
    "accuracy = accuracy_score(y_test, y_pred)\n",
    "print('Accuracy:', accuracy)\n"
   ]
  },
  {
   "cell_type": "code",
   "execution_count": 8,
   "id": "d8137375-287a-4081-a7da-d72b534e42c8",
   "metadata": {},
   "outputs": [
    {
     "data": {
      "image/png": "[encoded data removed]",
      "text/plain": [
       "<Figure size 432x288 with 1 Axes>"
      ]
     },
     "metadata": {
      "needs_background": "light"
     },
     "output_type": "display_data"
    },
    {
     "name": "stdout",
     "output_type": "stream",
     "text": [
      "Best value of k: 1\n",
      "Accuracy: 0.4767277856135402\n"
     ]
    }
   ],
   "source": [
    "#hyperparamater tuning with gridserachcv (from scikit)\n",
    "\n",
    "X = df[['transit_score', 'bike_score', 'price', 'walkscore', 'sq ft']]\n",
    "y = df['Metro']\n",
    "\n",
    "\n",
    "X_train, X_test, y_train, y_test = train_test_split(X, y, test_size=0.2, random_state=42)\n",
    "\n",
    "\n",
    "param_grid = {'n_neighbors': np.arange(1, 50)}\n",
    "\n",
    "\n",
    "grid_search = GridSearchCV(KNeighborsClassifier(), param_grid, cv=5, return_train_score=True)\n",
    "grid_search.fit(X_train, y_train)\n",
    "\n",
    "# visualizing hyperparameter tuning\n",
    "param_range = np.arange(1, 50)\n",
    "train_scores, test_scores = grid_search.cv_results_['mean_train_score'], grid_search.cv_results_['mean_test_score']\n",
    "plt.plot(param_range, train_scores, label='Training Score')\n",
    "plt.plot(param_range, test_scores, label='Validation Score')\n",
    "plt.xlabel('k')\n",
    "plt.ylabel('Accuracy')\n",
    "plt.legend()\n",
    "plt.show()\n",
    "\n",
    "#returning best paramaters\n",
    "best_k = grid_search.best_params_['n_neighbors']\n",
    "print('Best value of k:', best_k)\n",
    "\n",
    "#training model with returned parmaters\n",
    "knn = KNeighborsClassifier(n_neighbors=best_k)\n",
    "knn.fit(X_train, y_train)\n",
    "\n",
    "\n",
    "y_pred = knn.predict(X_test)\n",
    "\n",
    "accuracy = accuracy_score(y_test, y_pred)\n",
    "print('Accuracy:', accuracy)\n"
   ]
  },
  {
   "cell_type": "code",
   "execution_count": 6,
   "id": "2d7e6215-09de-41a8-a0b9-0a10b31656b5",
   "metadata": {},
   "outputs": [
    {
     "data": {
      "image/png": "[encoded data removed]",
      "text/plain": [
       "<Figure size 288x288 with 2 Axes>"
      ]
     },
     "metadata": {
      "needs_background": "light"
     },
     "output_type": "display_data"
    }
   ],
   "source": [
    "#making visualization of confusion matrix (using confusion_matrix from scikit)\n",
    "from sklearn.metrics import confusion_matrix\n",
    "\n",
    "y_pred = knn.predict(X_test)\n",
    "\n",
    "cm = confusion_matrix(y_test, y_pred)\n",
    "\n",
    "plt.matshow(cm, cmap='Blues')\n",
    "plt.colorbar()\n",
    "plt.xlabel('Predicted label')\n",
    "plt.ylabel('True label')\n",
    "plt.show()"
   ]
  }
 ],
 "metadata": {
  "kernelspec": {
   "display_name": "Python 3",
   "language": "python",
   "name": "python3"
  },
  "language_info": {
   "codemirror_mode": {
    "name": "ipython",
    "version": 3
   },
   "file_extension": ".py",
   "mimetype": "text/x-python",
   "name": "python",
   "nbconvert_exporter": "python",
   "pygments_lexer": "ipython3",
   "version": "3.8.8"
  }
 },
 "nbformat": 4,
 "nbformat_minor": 5
}
