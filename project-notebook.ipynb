{
 "cells": [
  {
   "cell_type": "code",
   "execution_count": 78,
   "id": "7c9acd9b",
   "metadata": {},
   "outputs": [],
   "source": [
    "# import necessary libraries\n",
    "import pandas as pd\n",
    "import matplotlib.pyplot as plt\n",
    "import seaborn as sns\n",
    "sns.set() \n",
    "from sklearn.datasets import load_iris\n",
    "from sklearn.metrics import accuracy_score, classification_report\n",
    "from sklearn.model_selection import train_test_split\n",
    "from sklearn.neighbors import KNeighborsClassifier, KNeighborsRegressor\n",
    "from statsmodels.formula.api import ols\n",
    "from sklearn.linear_model import LinearRegression\n",
    "from sklearn.tree import DecisionTreeRegressor, DecisionTreeClassifier\n",
    "from sklearn.model_selection import train_test_split\n",
    "from sklearn import tree\n",
    "from sklearn.metrics import mean_squared_error, r2_score\n",
    "from sklearn.ensemble import RandomForestRegressor\n",
    "import re"
   ]
  },
  {
   "cell_type": "code",
   "execution_count": 79,
   "id": "16ce10fe",
   "metadata": {},
   "outputs": [
    {
     "data": {
      "text/html": [
       "<div>\n",
       "<style scoped>\n",
       "    .dataframe tbody tr th:only-of-type {\n",
       "        vertical-align: middle;\n",
       "    }\n",
       "\n",
       "    .dataframe tbody tr th {\n",
       "        vertical-align: top;\n",
       "    }\n",
       "\n",
       "    .dataframe thead th {\n",
       "        text-align: right;\n",
       "    }\n",
       "</style>\n",
       "<table border=\"1\" class=\"dataframe\">\n",
       "  <thead>\n",
       "    <tr style=\"text-align: right;\">\n",
       "      <th></th>\n",
       "      <th>Unnamed: 0</th>\n",
       "      <th>list-card-link href</th>\n",
       "      <th>list-card-addr</th>\n",
       "      <th>ADDRESS</th>\n",
       "      <th>city</th>\n",
       "      <th>state</th>\n",
       "      <th>Metro</th>\n",
       "      <th>zip</th>\n",
       "      <th>price</th>\n",
       "      <th>sq ft</th>\n",
       "      <th>...</th>\n",
       "      <th>pricesqft</th>\n",
       "      <th>list-card-label</th>\n",
       "      <th>list-card-label 2</th>\n",
       "      <th>list-card-variable-text</th>\n",
       "      <th>walkscore</th>\n",
       "      <th>description</th>\n",
       "      <th>LATITUDE</th>\n",
       "      <th>LONGITUDE</th>\n",
       "      <th>list-card-link src</th>\n",
       "      <th>list-card-save-content</th>\n",
       "    </tr>\n",
       "  </thead>\n",
       "  <tbody>\n",
       "    <tr>\n",
       "      <th>0</th>\n",
       "      <td>{\"@type\":\"SingleFamilyResidence\",\"@context\":\"h...</td>\n",
       "      <td>https://www.zillow.com/homedetails/0-Bayfield-...</td>\n",
       "      <td>0 Bayfield Ave, Arverne, NY 11692</td>\n",
       "      <td>Bayfield Ave</td>\n",
       "      <td>Arverne</td>\n",
       "      <td>NY</td>\n",
       "      <td>New York</td>\n",
       "      <td>11692.0</td>\n",
       "      <td>360000.0</td>\n",
       "      <td>8481.0</td>\n",
       "      <td>...</td>\n",
       "      <td>42.447825</td>\n",
       "      <td>sqft lot</td>\n",
       "      <td>NaN</td>\n",
       "      <td>Sold 08/06/2018</td>\n",
       "      <td>44</td>\n",
       "      <td>Car-Dependent</td>\n",
       "      <td>40.599041</td>\n",
       "      <td>-73.799969</td>\n",
       "      <td>data:image/gif;base64,R0lGODlhAQABAIAAAAAAAP//...</td>\n",
       "      <td>NaN</td>\n",
       "    </tr>\n",
       "    <tr>\n",
       "      <th>1</th>\n",
       "      <td>{\"@type\":\"SingleFamilyResidence\",\"@context\":\"h...</td>\n",
       "      <td>https://www.zillow.com/homedetails/3045-23rd-A...</td>\n",
       "      <td>3045 23rd, Astoria, NY 11102</td>\n",
       "      <td>3045 23rd</td>\n",
       "      <td>Astoria</td>\n",
       "      <td>NY</td>\n",
       "      <td>New York</td>\n",
       "      <td>11102.0</td>\n",
       "      <td>825000.0</td>\n",
       "      <td>2000.0</td>\n",
       "      <td>...</td>\n",
       "      <td>412.5</td>\n",
       "      <td>sqft lot</td>\n",
       "      <td>NaN</td>\n",
       "      <td>Sold 10/29/2020</td>\n",
       "      <td>97</td>\n",
       "      <td>Walker's Paradise</td>\n",
       "      <td>40.768025</td>\n",
       "      <td>-73.927269</td>\n",
       "      <td>https://maps.googleapis.com/maps/api/streetvie...</td>\n",
       "      <td>NaN</td>\n",
       "    </tr>\n",
       "    <tr>\n",
       "      <th>2</th>\n",
       "      <td>{\"@type\":\"SingleFamilyResidence\",\"@context\":\"h...</td>\n",
       "      <td>https://www.zillow.com/homedetails/18-11-21-Dr...</td>\n",
       "      <td>18-11 21 Drive, Astoria, NY 11105</td>\n",
       "      <td>18-11 21 Drive</td>\n",
       "      <td>Astoria</td>\n",
       "      <td>NY</td>\n",
       "      <td>New York</td>\n",
       "      <td>11105.0</td>\n",
       "      <td>3000000.0</td>\n",
       "      <td>3025.0</td>\n",
       "      <td>...</td>\n",
       "      <td>991.735537</td>\n",
       "      <td>sqft lot</td>\n",
       "      <td>NaN</td>\n",
       "      <td>Sold 01/16/2019</td>\n",
       "      <td>75</td>\n",
       "      <td>Very Walkable</td>\n",
       "      <td>40.782982</td>\n",
       "      <td>-73.918476</td>\n",
       "      <td>https://maps.googleapis.com/maps/api/streetvie...</td>\n",
       "      <td>NaN</td>\n",
       "    </tr>\n",
       "    <tr>\n",
       "      <th>3</th>\n",
       "      <td>{\"@type\":\"SingleFamilyResidence\",\"@context\":\"h...</td>\n",
       "      <td>https://www.zillow.com/homedetails/18-15-21-Dr...</td>\n",
       "      <td>18-15 21 Drive, Astoria, NY 11105</td>\n",
       "      <td>18-15 21 Drive</td>\n",
       "      <td>Astoria</td>\n",
       "      <td>NY</td>\n",
       "      <td>New York</td>\n",
       "      <td>11105.0</td>\n",
       "      <td>3000000.0</td>\n",
       "      <td>2888.0</td>\n",
       "      <td>...</td>\n",
       "      <td>1038.781163</td>\n",
       "      <td>sqft lot</td>\n",
       "      <td>NaN</td>\n",
       "      <td>Sold 01/16/2019</td>\n",
       "      <td>75</td>\n",
       "      <td>Very Walkable</td>\n",
       "      <td>40.782897</td>\n",
       "      <td>-73.918410</td>\n",
       "      <td>https://maps.googleapis.com/maps/api/streetvie...</td>\n",
       "      <td>NaN</td>\n",
       "    </tr>\n",
       "    <tr>\n",
       "      <th>4</th>\n",
       "      <td>{\"@type\":\"SingleFamilyResidence\",\"@context\":\"h...</td>\n",
       "      <td>https://www.zillow.com/homedetails/10297-E-Mis...</td>\n",
       "      <td>10297 E Mississippi Ave, Aurora, CO 80247</td>\n",
       "      <td>10297 E Mississippi Ave</td>\n",
       "      <td>Aurora</td>\n",
       "      <td>CO</td>\n",
       "      <td>Denver</td>\n",
       "      <td>80247.0</td>\n",
       "      <td>300000.0</td>\n",
       "      <td>40510.8</td>\n",
       "      <td>...</td>\n",
       "      <td>7.405433</td>\n",
       "      <td>acres lot</td>\n",
       "      <td>NaN</td>\n",
       "      <td>Sold 10/08/2020</td>\n",
       "      <td>61</td>\n",
       "      <td>Somewhat Walkable</td>\n",
       "      <td>39.697108</td>\n",
       "      <td>-104.869217</td>\n",
       "      <td>data:image/gif;base64,R0lGODlhAQABAIAAAAAAAP//...</td>\n",
       "      <td>NaN</td>\n",
       "    </tr>\n",
       "  </tbody>\n",
       "</table>\n",
       "<p>5 rows × 21 columns</p>\n",
       "</div>"
      ],
      "text/plain": [
       "                                          Unnamed: 0  \\\n",
       "0  {\"@type\":\"SingleFamilyResidence\",\"@context\":\"h...   \n",
       "1  {\"@type\":\"SingleFamilyResidence\",\"@context\":\"h...   \n",
       "2  {\"@type\":\"SingleFamilyResidence\",\"@context\":\"h...   \n",
       "3  {\"@type\":\"SingleFamilyResidence\",\"@context\":\"h...   \n",
       "4  {\"@type\":\"SingleFamilyResidence\",\"@context\":\"h...   \n",
       "\n",
       "                                 list-card-link href  \\\n",
       "0  https://www.zillow.com/homedetails/0-Bayfield-...   \n",
       "1  https://www.zillow.com/homedetails/3045-23rd-A...   \n",
       "2  https://www.zillow.com/homedetails/18-11-21-Dr...   \n",
       "3  https://www.zillow.com/homedetails/18-15-21-Dr...   \n",
       "4  https://www.zillow.com/homedetails/10297-E-Mis...   \n",
       "\n",
       "                              list-card-addr                  ADDRESS  \\\n",
       "0          0 Bayfield Ave, Arverne, NY 11692             Bayfield Ave   \n",
       "1               3045 23rd, Astoria, NY 11102                3045 23rd   \n",
       "2          18-11 21 Drive, Astoria, NY 11105           18-11 21 Drive   \n",
       "3          18-15 21 Drive, Astoria, NY 11105           18-15 21 Drive   \n",
       "4  10297 E Mississippi Ave, Aurora, CO 80247  10297 E Mississippi Ave   \n",
       "\n",
       "      city state     Metro      zip      price    sq ft  ...    pricesqft  \\\n",
       "0  Arverne    NY  New York  11692.0   360000.0   8481.0  ...    42.447825   \n",
       "1  Astoria    NY  New York  11102.0   825000.0   2000.0  ...        412.5   \n",
       "2  Astoria    NY  New York  11105.0  3000000.0   3025.0  ...   991.735537   \n",
       "3  Astoria    NY  New York  11105.0  3000000.0   2888.0  ...  1038.781163   \n",
       "4   Aurora    CO    Denver  80247.0   300000.0  40510.8  ...     7.405433   \n",
       "\n",
       "  list-card-label list-card-label 2 list-card-variable-text walkscore  \\\n",
       "0        sqft lot               NaN         Sold 08/06/2018        44   \n",
       "1        sqft lot               NaN         Sold 10/29/2020        97   \n",
       "2        sqft lot               NaN         Sold 01/16/2019        75   \n",
       "3        sqft lot               NaN         Sold 01/16/2019        75   \n",
       "4       acres lot               NaN         Sold 10/08/2020        61   \n",
       "\n",
       "         description   LATITUDE   LONGITUDE  \\\n",
       "0      Car-Dependent  40.599041  -73.799969   \n",
       "1  Walker's Paradise  40.768025  -73.927269   \n",
       "2      Very Walkable  40.782982  -73.918476   \n",
       "3      Very Walkable  40.782897  -73.918410   \n",
       "4  Somewhat Walkable  39.697108 -104.869217   \n",
       "\n",
       "                                  list-card-link src list-card-save-content  \n",
       "0  data:image/gif;base64,R0lGODlhAQABAIAAAAAAAP//...                    NaN  \n",
       "1  https://maps.googleapis.com/maps/api/streetvie...                    NaN  \n",
       "2  https://maps.googleapis.com/maps/api/streetvie...                    NaN  \n",
       "3  https://maps.googleapis.com/maps/api/streetvie...                    NaN  \n",
       "4  data:image/gif;base64,R0lGODlhAQABAIAAAAAAAP//...                    NaN  \n",
       "\n",
       "[5 rows x 21 columns]"
      ]
     },
     "execution_count": 79,
     "metadata": {},
     "output_type": "execute_result"
    }
   ],
   "source": [
    "# import data set\n",
    "df_housing = pd.read_excel(\"Land Value Sales 2020.xlsx\")\n",
    "df_housing.head()"
   ]
  },
  {
   "cell_type": "markdown",
   "id": "f69d7fd0",
   "metadata": {},
   "source": [
    "# EDA and data prep"
   ]
  },
  {
   "cell_type": "code",
   "execution_count": 80,
   "id": "b07f89c4",
   "metadata": {},
   "outputs": [],
   "source": [
    "# Remove external links as they will not be used in evaluation\n",
    "del df_housing[\"list-card-link href\"]\n",
    "del df_housing[\"list-card-link src\"]"
   ]
  },
  {
   "cell_type": "code",
   "execution_count": 81,
   "id": "e14c07db",
   "metadata": {},
   "outputs": [],
   "source": [
    "# remove column list-card-addr \n",
    "del df_housing[\"list-card-addr\"]\n"
   ]
  },
  {
   "cell_type": "code",
   "execution_count": 82,
   "id": "b4d95c0c",
   "metadata": {},
   "outputs": [],
   "source": [
    "# Delete unnamed column as all residences are single family residences\n",
    "del df_housing[\"Unnamed: 0\"]"
   ]
  },
  {
   "cell_type": "code",
   "execution_count": 83,
   "id": "6df4befd",
   "metadata": {
    "scrolled": true
   },
   "outputs": [
    {
     "data": {
      "text/html": [
       "<div>\n",
       "<style scoped>\n",
       "    .dataframe tbody tr th:only-of-type {\n",
       "        vertical-align: middle;\n",
       "    }\n",
       "\n",
       "    .dataframe tbody tr th {\n",
       "        vertical-align: top;\n",
       "    }\n",
       "\n",
       "    .dataframe thead th {\n",
       "        text-align: right;\n",
       "    }\n",
       "</style>\n",
       "<table border=\"1\" class=\"dataframe\">\n",
       "  <thead>\n",
       "    <tr style=\"text-align: right;\">\n",
       "      <th></th>\n",
       "      <th>ADDRESS</th>\n",
       "      <th>city</th>\n",
       "      <th>state</th>\n",
       "      <th>Metro</th>\n",
       "      <th>zip</th>\n",
       "      <th>price</th>\n",
       "      <th>sq ft</th>\n",
       "      <th>acreage</th>\n",
       "      <th>pricesqft</th>\n",
       "      <th>list-card-label</th>\n",
       "      <th>list-card-label 2</th>\n",
       "      <th>list-card-variable-text</th>\n",
       "      <th>walkscore</th>\n",
       "      <th>description</th>\n",
       "      <th>LATITUDE</th>\n",
       "      <th>LONGITUDE</th>\n",
       "      <th>list-card-save-content</th>\n",
       "    </tr>\n",
       "  </thead>\n",
       "  <tbody>\n",
       "    <tr>\n",
       "      <th>0</th>\n",
       "      <td>Bayfield Ave</td>\n",
       "      <td>Arverne</td>\n",
       "      <td>NY</td>\n",
       "      <td>New York</td>\n",
       "      <td>11692.0</td>\n",
       "      <td>360000.0</td>\n",
       "      <td>8481.0</td>\n",
       "      <td>0.194697</td>\n",
       "      <td>42.447825</td>\n",
       "      <td>sqft lot</td>\n",
       "      <td>NaN</td>\n",
       "      <td>Sold 08/06/2018</td>\n",
       "      <td>44</td>\n",
       "      <td>Car-Dependent</td>\n",
       "      <td>40.599041</td>\n",
       "      <td>-73.799969</td>\n",
       "      <td>NaN</td>\n",
       "    </tr>\n",
       "    <tr>\n",
       "      <th>1</th>\n",
       "      <td>3045 23rd</td>\n",
       "      <td>Astoria</td>\n",
       "      <td>NY</td>\n",
       "      <td>New York</td>\n",
       "      <td>11102.0</td>\n",
       "      <td>825000.0</td>\n",
       "      <td>2000.0</td>\n",
       "      <td>0.045914</td>\n",
       "      <td>412.5</td>\n",
       "      <td>sqft lot</td>\n",
       "      <td>NaN</td>\n",
       "      <td>Sold 10/29/2020</td>\n",
       "      <td>97</td>\n",
       "      <td>Walker's Paradise</td>\n",
       "      <td>40.768025</td>\n",
       "      <td>-73.927269</td>\n",
       "      <td>NaN</td>\n",
       "    </tr>\n",
       "    <tr>\n",
       "      <th>2</th>\n",
       "      <td>18-11 21 Drive</td>\n",
       "      <td>Astoria</td>\n",
       "      <td>NY</td>\n",
       "      <td>New York</td>\n",
       "      <td>11105.0</td>\n",
       "      <td>3000000.0</td>\n",
       "      <td>3025.0</td>\n",
       "      <td>0.069444</td>\n",
       "      <td>991.735537</td>\n",
       "      <td>sqft lot</td>\n",
       "      <td>NaN</td>\n",
       "      <td>Sold 01/16/2019</td>\n",
       "      <td>75</td>\n",
       "      <td>Very Walkable</td>\n",
       "      <td>40.782982</td>\n",
       "      <td>-73.918476</td>\n",
       "      <td>NaN</td>\n",
       "    </tr>\n",
       "    <tr>\n",
       "      <th>3</th>\n",
       "      <td>18-15 21 Drive</td>\n",
       "      <td>Astoria</td>\n",
       "      <td>NY</td>\n",
       "      <td>New York</td>\n",
       "      <td>11105.0</td>\n",
       "      <td>3000000.0</td>\n",
       "      <td>2888.0</td>\n",
       "      <td>0.066299</td>\n",
       "      <td>1038.781163</td>\n",
       "      <td>sqft lot</td>\n",
       "      <td>NaN</td>\n",
       "      <td>Sold 01/16/2019</td>\n",
       "      <td>75</td>\n",
       "      <td>Very Walkable</td>\n",
       "      <td>40.782897</td>\n",
       "      <td>-73.918410</td>\n",
       "      <td>NaN</td>\n",
       "    </tr>\n",
       "    <tr>\n",
       "      <th>4</th>\n",
       "      <td>10297 E Mississippi Ave</td>\n",
       "      <td>Aurora</td>\n",
       "      <td>CO</td>\n",
       "      <td>Denver</td>\n",
       "      <td>80247.0</td>\n",
       "      <td>300000.0</td>\n",
       "      <td>40510.8</td>\n",
       "      <td>0.930000</td>\n",
       "      <td>7.405433</td>\n",
       "      <td>acres lot</td>\n",
       "      <td>NaN</td>\n",
       "      <td>Sold 10/08/2020</td>\n",
       "      <td>61</td>\n",
       "      <td>Somewhat Walkable</td>\n",
       "      <td>39.697108</td>\n",
       "      <td>-104.869217</td>\n",
       "      <td>NaN</td>\n",
       "    </tr>\n",
       "  </tbody>\n",
       "</table>\n",
       "</div>"
      ],
      "text/plain": [
       "                   ADDRESS     city state     Metro      zip      price  \\\n",
       "0             Bayfield Ave  Arverne    NY  New York  11692.0   360000.0   \n",
       "1                3045 23rd  Astoria    NY  New York  11102.0   825000.0   \n",
       "2           18-11 21 Drive  Astoria    NY  New York  11105.0  3000000.0   \n",
       "3           18-15 21 Drive  Astoria    NY  New York  11105.0  3000000.0   \n",
       "4  10297 E Mississippi Ave   Aurora    CO    Denver  80247.0   300000.0   \n",
       "\n",
       "     sq ft   acreage    pricesqft list-card-label list-card-label 2  \\\n",
       "0   8481.0  0.194697    42.447825        sqft lot               NaN   \n",
       "1   2000.0  0.045914        412.5        sqft lot               NaN   \n",
       "2   3025.0  0.069444   991.735537        sqft lot               NaN   \n",
       "3   2888.0  0.066299  1038.781163        sqft lot               NaN   \n",
       "4  40510.8  0.930000     7.405433       acres lot               NaN   \n",
       "\n",
       "  list-card-variable-text  walkscore        description   LATITUDE  \\\n",
       "0         Sold 08/06/2018         44      Car-Dependent  40.599041   \n",
       "1         Sold 10/29/2020         97  Walker's Paradise  40.768025   \n",
       "2         Sold 01/16/2019         75      Very Walkable  40.782982   \n",
       "3         Sold 01/16/2019         75      Very Walkable  40.782897   \n",
       "4         Sold 10/08/2020         61  Somewhat Walkable  39.697108   \n",
       "\n",
       "    LONGITUDE list-card-save-content  \n",
       "0  -73.799969                    NaN  \n",
       "1  -73.927269                    NaN  \n",
       "2  -73.918476                    NaN  \n",
       "3  -73.918410                    NaN  \n",
       "4 -104.869217                    NaN  "
      ]
     },
     "execution_count": 83,
     "metadata": {},
     "output_type": "execute_result"
    }
   ],
   "source": [
    "df_housing.head()"
   ]
  },
  {
   "cell_type": "code",
   "execution_count": 84,
   "id": "d49c9f42",
   "metadata": {
    "scrolled": false
   },
   "outputs": [
    {
     "name": "stdout",
     "output_type": "stream",
     "text": [
      "<class 'pandas.core.frame.DataFrame'>\n",
      "RangeIndex: 3625 entries, 0 to 3624\n",
      "Data columns (total 17 columns):\n",
      " #   Column                   Non-Null Count  Dtype  \n",
      "---  ------                   --------------  -----  \n",
      " 0   ADDRESS                  3625 non-null   object \n",
      " 1   city                     3625 non-null   object \n",
      " 2   state                    3625 non-null   object \n",
      " 3   Metro                    3625 non-null   object \n",
      " 4   zip                      3617 non-null   float64\n",
      " 5   price                    3625 non-null   float64\n",
      " 6   sq ft                    3552 non-null   float64\n",
      " 7   acreage                  3625 non-null   float64\n",
      " 8   pricesqft                3625 non-null   object \n",
      " 9   list-card-label          3625 non-null   object \n",
      " 10  list-card-label 2        1724 non-null   object \n",
      " 11  list-card-variable-text  3625 non-null   object \n",
      " 12  walkscore                3625 non-null   int64  \n",
      " 13  description              3625 non-null   object \n",
      " 14  LATITUDE                 3625 non-null   float64\n",
      " 15  LONGITUDE                3625 non-null   float64\n",
      " 16  list-card-save-content   769 non-null    object \n",
      "dtypes: float64(6), int64(1), object(10)\n",
      "memory usage: 481.6+ KB\n"
     ]
    }
   ],
   "source": [
    "# Get info about data \n",
    "df_housing.info()"
   ]
  },
  {
   "cell_type": "code",
   "execution_count": 85,
   "id": "aea12766",
   "metadata": {
    "scrolled": true
   },
   "outputs": [
    {
     "name": "stdout",
     "output_type": "stream",
     "text": [
      "ADDRESS                       0\n",
      "city                          0\n",
      "state                         0\n",
      "Metro                         0\n",
      "zip                           8\n",
      "price                         0\n",
      "sq ft                        73\n",
      "acreage                       0\n",
      "pricesqft                     0\n",
      "list-card-label               0\n",
      "list-card-label 2          1901\n",
      "list-card-variable-text       0\n",
      "walkscore                     0\n",
      "description                   0\n",
      "LATITUDE                      0\n",
      "LONGITUDE                     0\n",
      "list-card-save-content     2856\n",
      "dtype: int64\n"
     ]
    }
   ],
   "source": [
    "# Count the number of null values each column has  \n",
    "print(df_housing.isnull().sum())"
   ]
  },
  {
   "cell_type": "code",
   "execution_count": 86,
   "id": "91ef8c8a",
   "metadata": {},
   "outputs": [
    {
     "data": {
      "text/plain": [
       "(3625, 17)"
      ]
     },
     "execution_count": 86,
     "metadata": {},
     "output_type": "execute_result"
    }
   ],
   "source": [
    "df_housing.shape"
   ]
  },
  {
   "cell_type": "markdown",
   "id": "a6409392",
   "metadata": {},
   "source": [
    "Since majority of the columns \"list-card-save-content\" is null and is only saved for Chicago homes, we can delete that column."
   ]
  },
  {
   "cell_type": "code",
   "execution_count": 87,
   "id": "c4724126",
   "metadata": {},
   "outputs": [],
   "source": [
    "del df_housing[\"list-card-save-content\"]"
   ]
  },
  {
   "attachments": {},
   "cell_type": "markdown",
   "id": "b5695bf2",
   "metadata": {},
   "source": [
    "List card label 2 is a label that tells if the housing property was sold. However, we already have a column that says when the property was sold in \"list-card-variable-text.\" We can del this column too"
   ]
  },
  {
   "cell_type": "code",
   "execution_count": 88,
   "id": "473a5821",
   "metadata": {
    "scrolled": true
   },
   "outputs": [],
   "source": [
    "del df_housing[\"list-card-label 2\"]"
   ]
  },
  {
   "cell_type": "markdown",
   "id": "630af9f9",
   "metadata": {},
   "source": [
    "There are some null values in sq ft which isn't that bad of a fix. We can convert acerage to sq ft. (1 acre = 43560 sq ft)"
   ]
  },
  {
   "cell_type": "code",
   "execution_count": 89,
   "id": "3204efa1",
   "metadata": {},
   "outputs": [],
   "source": [
    "df_housing.loc[df_housing[\"sq ft\"].isna(), \"sq ft\"] = df_housing[\"acreage\"] * 43560"
   ]
  },
  {
   "cell_type": "markdown",
   "id": "710a86af",
   "metadata": {},
   "source": [
    "Zip code"
   ]
  },
  {
   "cell_type": "code",
   "execution_count": 90,
   "id": "91730bf9",
   "metadata": {
    "scrolled": true
   },
   "outputs": [
    {
     "data": {
      "text/plain": [
       "210    NaN\n",
       "417    NaN\n",
       "1273   NaN\n",
       "1274   NaN\n",
       "1456   NaN\n",
       "1984   NaN\n",
       "1989   NaN\n",
       "3095   NaN\n",
       "Name: zip, dtype: float64"
      ]
     },
     "execution_count": 90,
     "metadata": {},
     "output_type": "execute_result"
    }
   ],
   "source": [
    "df_housing.loc[df_housing[\"zip\"].isna(), \"zip\"]"
   ]
  },
  {
   "cell_type": "markdown",
   "id": "27be9fce",
   "metadata": {},
   "source": [
    "Check if states are in the correct metro area\n",
    "\n",
    "New York = NY (NJ acceptable)\n",
    "Denver = CO\n",
    "LA = CA\n",
    "Seattle = WA\n",
    "Chicago = IL\n",
    "San Francisco = CA\n",
    "Philadelphia = PA"
   ]
  },
  {
   "cell_type": "code",
   "execution_count": 91,
   "id": "b20324c2",
   "metadata": {
    "scrolled": true
   },
   "outputs": [
    {
     "data": {
      "text/plain": [
       "array(['New York', 'Denver', 'Los Angeles', 'Seattle', 'Chicago',\n",
       "       'Philadelphia', 'San Francisco'], dtype=object)"
      ]
     },
     "execution_count": 91,
     "metadata": {},
     "output_type": "execute_result"
    }
   ],
   "source": [
    "df_housing[\"Metro\"].unique()"
   ]
  },
  {
   "cell_type": "code",
   "execution_count": 96,
   "id": "d6d5f1d0",
   "metadata": {
    "scrolled": false
   },
   "outputs": [
    {
     "data": {
      "text/plain": [
       "array(['NY', 'CO', 'CA', 'WA', 'AZ', 'IL', 'PA', 'MA', 'MD'], dtype=object)"
      ]
     },
     "execution_count": 96,
     "metadata": {},
     "output_type": "execute_result"
    }
   ],
   "source": [
    "df_housing[\"state\"].unique()"
   ]
  },
  {
   "cell_type": "code",
   "execution_count": 107,
   "id": "1a82302b",
   "metadata": {},
   "outputs": [],
   "source": [
    "# Delete Arizona, Mass, Maryland properties\n",
    "df_housing = df_housing.drop(df_housing[df_housing['state'] == \"AZ\"].index)\n",
    "df_housing = df_housing.drop(df_housing[df_housing['state'] == \"MA\"].index)\n",
    "df_housing = df_housing.drop(df_housing[df_housing['state'] == \"MD\"].index)"
   ]
  },
  {
   "cell_type": "code",
   "execution_count": 108,
   "id": "f5a67a09",
   "metadata": {
    "scrolled": true
   },
   "outputs": [
    {
     "data": {
      "text/plain": [
       "array(['NY', 'CO', 'CA', 'WA', 'IL', 'PA'], dtype=object)"
      ]
     },
     "execution_count": 108,
     "metadata": {},
     "output_type": "execute_result"
    }
   ],
   "source": [
    "df_housing[\"state\"].unique()"
   ]
  },
  {
   "cell_type": "code",
   "execution_count": 109,
   "id": "9817388f",
   "metadata": {
    "scrolled": true
   },
   "outputs": [
    {
     "name": "stdout",
     "output_type": "stream",
     "text": [
      "ADDRESS                    0\n",
      "city                       0\n",
      "state                      0\n",
      "Metro                      0\n",
      "zip                        7\n",
      "price                      0\n",
      "sq ft                      0\n",
      "acreage                    0\n",
      "pricesqft                  0\n",
      "list-card-label            0\n",
      "list-card-variable-text    0\n",
      "walkscore                  0\n",
      "description                0\n",
      "LATITUDE                   0\n",
      "LONGITUDE                  0\n",
      "dtype: int64\n"
     ]
    }
   ],
   "source": [
    "# Count the number of null values each column has  \n",
    "print(df_housing.isnull().sum())"
   ]
  },
  {
   "cell_type": "code",
   "execution_count": null,
   "id": "f4c5ce51",
   "metadata": {},
   "outputs": [],
   "source": []
  }
 ],
 "metadata": {
  "kernelspec": {
   "display_name": "Python 3 (ipykernel)",
   "language": "python",
   "name": "python3"
  },
  "language_info": {
   "codemirror_mode": {
    "name": "ipython",
    "version": 3
   },
   "file_extension": ".py",
   "mimetype": "text/x-python",
   "name": "python",
   "nbconvert_exporter": "python",
   "pygments_lexer": "ipython3",
   "version": "3.9.12"
  }
 },
 "nbformat": 4,
 "nbformat_minor": 5
}
